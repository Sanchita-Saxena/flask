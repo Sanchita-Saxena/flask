{
 "cells": [
  {
   "cell_type": "code",
   "execution_count": 1,
   "metadata": {},
   "outputs": [],
   "source": [
    "from flask import Flask, request, jsonify, render_template\n",
    "import random\n",
    "import tensorflow\n",
    "from tensorflow.keras.models import load_model\n",
    "import numpy as np\n",
    "import librosa\n",
    "import pandas as pd\n",
    "from sklearn.preprocessing import OneHotEncoder\n",
    "import os"
   ]
  },
  {
   "cell_type": "code",
   "execution_count": 2,
   "metadata": {},
   "outputs": [],
   "source": [
    "app = Flask(__name__, template_folder='template', static_folder='static')\n",
    "model=load_model(r'EmotionEmergency.h5')"
   ]
  },
  {
   "cell_type": "code",
   "execution_count": 3,
   "metadata": {},
   "outputs": [],
   "source": [
    "@app.route('/')\n",
    "def home():\n",
    "    return render_template('index.html')"
   ]
  },
  {
   "cell_type": "code",
   "execution_count": 4,
   "metadata": {},
   "outputs": [],
   "source": [
    "@app.route('/predict_',methods=['GET','POST'])\n",
    "def predict_():\n",
    "\n",
    "    # get file from POST request and save it\n",
    "    # audio_file = request.files[\"file\"]\n",
    "    # file_name = str(random.randint(0, 100000))\n",
    "    # audio_file.save(file_name)\n",
    "    audio_file = r\"C:\\Users\\saxen\\Downloads\\output.wav\"\n",
    "\n",
    "    Features = pd.read_csv(r'D:\\SER\\E2\\features_Emergency.csv')\n",
    "    Y = Features['labels'].values\n",
    "    encoder = OneHotEncoder()\n",
    "    Y = encoder.fit_transform(np.array(Y).reshape(-1,1)).toarray()\n",
    "    \n",
    "    # NOISE\n",
    "    def noise(data):\n",
    "        noise_amp = 0.035*np.random.uniform()*np.amax(data)\n",
    "        data = data + noise_amp*np.random.normal(size=data.shape[0])\n",
    "        return data\n",
    "    # # STRETCH\n",
    "    # def stretch(data, rate=0.8):\n",
    "    #     return librosa.effects.time_stretch(data, rate)\n",
    "    # # PITCH\n",
    "    # def pitch(data, sampling_rate, pitch_factor=0.7):\n",
    "    #     return librosa.effects.pitch_shift(data, sampling_rate, pitch_factor)\n",
    "\n",
    "    def feat_ext(data):\n",
    "        mfcc = np.mean(librosa.feature.mfcc(y=data, sr=22050).T, axis=0)\n",
    "        return mfcc\n",
    "\n",
    "    def get_feat(path):\n",
    "        data, sample_rate = librosa.load(path, duration=5, offset=0.6)\n",
    "        # normal data\n",
    "        res1 = feat_ext(data)\n",
    "        result = np.array(res1)\n",
    "        #data with noise\n",
    "        noise_data = noise(data)\n",
    "        res2 = feat_ext(noise_data)\n",
    "        result = np.vstack((result, res2))\n",
    "        return result\n",
    "\n",
    "    try:\n",
    "        feature = get_feat(audio_file)\n",
    "        test =np.expand_dims(feature, axis=2)\n",
    "        livepreds = model.predict(test)\n",
    "        livepredictions = (encoder.inverse_transform((livepreds)))\n",
    "    except ValueError:\n",
    "        livepredictions = ['Blank Call']\n",
    "    os.remove(audio_file)\n",
    "\n",
    "\n",
    "    return render_template('result.html', prediction_text='{}'.format(livepredictions[0]))\n"
   ]
  },
  {
   "cell_type": "code",
   "execution_count": 5,
   "metadata": {},
   "outputs": [],
   "source": [
    "# @app.route('/results',methods=['POST'])\n",
    "# def results():\n",
    "#     data = request.get_json(force=True)\n",
    "#     prediction = model.predict(data.values())\n",
    "    \n",
    "#     return jsonify(prediction)"
   ]
  },
  {
   "cell_type": "code",
   "execution_count": 6,
   "metadata": {},
   "outputs": [
    {
     "name": "stdout",
     "output_type": "stream",
     "text": [
      " * Serving Flask app '__main__'\n",
      " * Debug mode: on\n"
     ]
    },
    {
     "name": "stderr",
     "output_type": "stream",
     "text": [
      "WARNING: This is a development server. Do not use it in a production deployment. Use a production WSGI server instead.\n",
      " * Running on http://127.0.0.1:5000\n",
      "Press CTRL+C to quit\n",
      "127.0.0.1 - - [25/Aug/2022 17:29:34] \"GET / HTTP/1.1\" 200 -\n",
      "127.0.0.1 - - [25/Aug/2022 17:29:34] \"GET /static/css/style.css HTTP/1.1\" 200 -\n",
      "127.0.0.1 - - [25/Aug/2022 17:29:34] \"GET /static/images/logo.png HTTP/1.1\" 200 -\n",
      "127.0.0.1 - - [25/Aug/2022 17:29:35] \"GET /static/images/footer_logo.PNG HTTP/1.1\" 200 -\n",
      "127.0.0.1 - - [25/Aug/2022 17:29:35] \"GET /static/js/main.js HTTP/1.1\" 200 -\n",
      "127.0.0.1 - - [25/Aug/2022 17:29:35] \"GET /static/images/favicon.png HTTP/1.1\" 200 -\n"
     ]
    },
    {
     "name": "stdout",
     "output_type": "stream",
     "text": [
      "1/1 [==============================] - 2s 2s/step\n"
     ]
    },
    {
     "name": "stderr",
     "output_type": "stream",
     "text": [
      "127.0.0.1 - - [25/Aug/2022 17:29:48] \"GET /predict_ HTTP/1.1\" 200 -\n",
      "127.0.0.1 - - [25/Aug/2022 17:29:48] \"GET /static/css/style.css HTTP/1.1\" 304 -\n",
      "127.0.0.1 - - [25/Aug/2022 17:29:48] \"GET /static/js/main.js HTTP/1.1\" 304 -\n",
      "127.0.0.1 - - [25/Aug/2022 17:29:48] \"GET /static/images/logo.png HTTP/1.1\" 304 -\n",
      "127.0.0.1 - - [25/Aug/2022 17:29:48] \"GET /static/images/footer_logo.PNG HTTP/1.1\" 304 -\n"
     ]
    }
   ],
   "source": [
    "if __name__ == \"__main__\":\n",
    "    app.run(debug=True,use_reloader=False)"
   ]
  }
 ],
 "metadata": {
  "kernelspec": {
   "display_name": "Python 3.10.1 64-bit",
   "language": "python",
   "name": "python3"
  },
  "language_info": {
   "codemirror_mode": {
    "name": "ipython",
    "version": 3
   },
   "file_extension": ".py",
   "mimetype": "text/x-python",
   "name": "python",
   "nbconvert_exporter": "python",
   "pygments_lexer": "ipython3",
   "version": "3.10.1"
  },
  "metadata": {
   "interpreter": {
    "hash": "75d5fa5647ed718dff6db6e19cb5826cae172c65e0d9788c078b693ea2246e0d"
   }
  },
  "orig_nbformat": 2,
  "vscode": {
   "interpreter": {
    "hash": "bb8e428c5d184d53ff11d9519987b17636fb5abc5f4f24e4425db8061d68ee4a"
   }
  }
 },
 "nbformat": 4,
 "nbformat_minor": 2
}
